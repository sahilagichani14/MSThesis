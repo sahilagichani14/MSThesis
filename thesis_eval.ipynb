{
 "cells": [
  {
   "cell_type": "markdown",
   "id": "7a37aecd-a4c7-498f-a9a5-06ad3495c81a",
   "metadata": {},
   "source": [
    "## Apply all imports here"
   ]
  },
  {
   "cell_type": "code",
   "execution_count": 1,
   "id": "6e9db25b-e6c9-489d-9f98-ad2ea706a0b6",
   "metadata": {},
   "outputs": [],
   "source": [
    "from os import listdir, getcwd\n",
    "import os\n",
    "from os.path import isfile, join\n",
    "import subprocess\n",
    "import sys\n",
    "import csv\n",
    "import pandas as pd\n",
    "\n"
   ]
  },
  {
   "cell_type": "markdown",
   "id": "f40527d8-f62a-41a2-9e7a-5ab706bc5bef",
   "metadata": {},
   "source": [
    "## Read all csv files "
   ]
  },
  {
   "cell_type": "code",
   "execution_count": null,
   "id": "cb06aecf-1b1f-4235-b841-db8e9820757b",
   "metadata": {},
   "outputs": [],
   "source": [
    "mypath = join(getcwd(), 'eval_results/soot_res')\n",
    "# print(mypath)\n",
    "\n",
    "csv_files = [f for f in listdir(mypath) if isfile(join(mypath, f))]\n",
    "# print(csv_files)\n",
    "\n",
    "completepaths = [os.path.join(mypath, f) for f in csv_files]\n",
    "# print(completepaths)\n",
    "\n",
    "# desired_col = [\"jar\",\"solver\",\"thread\",\"totalRuntime\",\"cgConstructionTime\",\"prop\",\"method\",\"mem\",\"CallGraphAlgo\",\"callGraphEdges\",\"callGraphReachableNodes\",\"initialStmtCount\",\"stmtCountAfterApplyingBI\",\"BodyTransformers\",\"BodyTransformersMetrics\"]\n",
    "desired_col = [\"jar\",\"solver\",\"thread\",\"totalRuntime\",\"cgConstructionTime\",\"prop\",\"method\",\"mem\",\"CallGraphAlgo\",\"callGraphEdges\",\"callGraphReachableNodes\",\"initialStmtCount\",\"stmtCountAfterApplyingBI\",\"BodyTransformers\",\"BodyTransformersMetrics\"]\n",
    "\n",
    "for completefilepath in completepaths:\n",
    "    # print(completefilepath)\n",
    "    csv_cols = next(csv.reader(open(completefilepath))) # read only the csv columns names\n",
    "\n",
    "    cols = [col for col in desired_col if col in csv_cols]\n",
    "    df = pd.read_csv(completefilepath, sep=\";\", header=0)\n",
    "    print(df.head())\n",
    "    print(\"-----------\")"
   ]
  },
  {
   "cell_type": "code",
   "execution_count": null,
   "id": "64da3ffb-0bfd-4a89-b2a8-6ae2303751b2",
   "metadata": {},
   "outputs": [],
   "source": [
    "df.iloc[0]"
   ]
  },
  {
   "cell_type": "markdown",
   "id": "ec4ac190-fac2-414e-8c87-e3770506230c",
   "metadata": {},
   "source": [
    "## Convert csv with , files"
   ]
  },
  {
   "cell_type": "code",
   "execution_count": null,
   "id": "3fdad2df-7bdd-4e61-b100-6a6948397a12",
   "metadata": {},
   "outputs": [],
   "source": [
    "import re\n",
    "import json\n",
    "import pandas as pd\n",
    "import csv\n",
    "\n",
    "mypath = join(getcwd(), 'eval_results/soot_res')\n",
    "# print(mypath)\n",
    "\n",
    "csv_files = [f for f in listdir(mypath) if isfile(join(mypath, f))]\n",
    "# print(csv_files)\n",
    "\n",
    "completepaths = [os.path.join(mypath, f) for f in csv_files]\n",
    "# print(completepaths)\n",
    "\n",
    "for completepath in completepaths:\n",
    "    with open(completepath, 'r', encoding='UTF-8') as file:\n",
    "        lines = [line.rstrip() for line in file]\n",
    "\n",
    "# print(lines)\n",
    "\n",
    "\n",
    "# input_str = \"\"\"\n",
    "# jar,solver,thread,totalRuntime,cgConstructionTime,prop,method,mem,CallGraphAlgo,callGraphEdges,callGraphReachableNodes,initialStmtCount,stmtCountAfterApplyingBI,BodyTransformers,BodyTransformersMetrics\n",
    "# assertj-core-3.24.2,default,1,88422,5368,3974427,50,554,CHA,57910,13599,101912,102790,[JB_LS, JB_TR],{jb.tr=[1470, -366], jb.ls=[903, -50]}\n",
    "# assertj-core-3.24.2,default,1,62110,6085,3020975,50,594,CHA,57910,13599,101912,102790,[JB_LS, JB_TR, JB_LP],{jb.tr=[1424, 2], jb.lp=[697, -126], jb.ls=[731, -476]}\n",
    "# \"\"\"\n",
    "input_str = '\\n'.join(lines)\n",
    "print(input_str)\n",
    "\n",
    "new_ouput = \"\"\n",
    "new_different_output = \"\"\n",
    "for each_row in input_str.split('\\n'): \n",
    "    if each_row.strip() != \"\":\n",
    "        split_row = each_row.split(',')\n",
    "        new_ouput += ','.join(split_row[:13])\n",
    "        new_ouput += '\\n'\n",
    "        new_different_output += ','.join(split_row[13:])\n",
    "        new_different_output += '\\n'\n",
    "\n",
    "with open('simple_output.csv', 'w') as file:\n",
    "    file.write(new_ouput)\n",
    "\n",
    "df = pd.read_csv('simple_output.csv')\n",
    "\n",
    "\n",
    "pattern = r'^(\\[.*?\\]),(\\{.*\\})$'\n",
    "\n",
    "each_index = 0\n",
    "for each_row in new_different_output.split('\\n'):\n",
    "    if each_row.strip() != \"\" and not each_row.startswith('BodyTransformers'):\n",
    "        match = re.match(pattern, each_row)\n",
    "        if match:\n",
    "            BodyTransformers_str = match.group(1)\n",
    "            column_y = BodyTransformers_str.strip('[]').split(',')\n",
    "            print(each_index)\n",
    "            df.loc[each_index, 'BodyTransformers'] = json.dumps(column_y)\n",
    "\n",
    "            column_z_str = match.group(2).replace('=', ':')\n",
    "            column_z_str = re.sub(r'([\\w\\.]+):', r'\"\\1\":', column_z_str)\n",
    "            column_z = json.loads(column_z_str)\n",
    "            df.loc[each_index, 'BodyTransformersMetrics'] = json.dumps(column_z)\n",
    "        each_index += 1\n",
    "\n",
    "print(df.head())"
   ]
  },
  {
   "cell_type": "code",
   "execution_count": null,
   "id": "b4887101-f294-474b-bfe0-7407007635b6",
   "metadata": {},
   "outputs": [],
   "source": []
  },
  {
   "cell_type": "code",
   "execution_count": null,
   "id": "4466ff45-2365-45d0-ab45-fbd8b7c01a4f",
   "metadata": {},
   "outputs": [],
   "source": []
  },
  {
   "cell_type": "code",
   "execution_count": null,
   "id": "ba118823-3b38-4434-ac4f-8aa23877ae55",
   "metadata": {},
   "outputs": [],
   "source": []
  },
  {
   "cell_type": "code",
   "execution_count": null,
   "id": "9d62f75d-4d08-487b-802b-e8bd4ddca0f8",
   "metadata": {},
   "outputs": [],
   "source": []
  },
  {
   "cell_type": "code",
   "execution_count": null,
   "id": "06953643-0aa6-4cea-89ab-3ecc47080aa2",
   "metadata": {},
   "outputs": [],
   "source": []
  },
  {
   "cell_type": "code",
   "execution_count": null,
   "id": "c104c21f-d5a0-4200-9464-3c3218ad0acd",
   "metadata": {},
   "outputs": [],
   "source": []
  },
  {
   "cell_type": "code",
   "execution_count": null,
   "id": "b28191d2-cfd9-4bf0-94f9-850c9e43d7de",
   "metadata": {},
   "outputs": [],
   "source": []
  }
 ],
 "metadata": {
  "kernelspec": {
   "display_name": "Python 3 (ipykernel)",
   "language": "python",
   "name": "python3"
  },
  "language_info": {
   "codemirror_mode": {
    "name": "ipython",
    "version": 3
   },
   "file_extension": ".py",
   "mimetype": "text/x-python",
   "name": "python",
   "nbconvert_exporter": "python",
   "pygments_lexer": "ipython3",
   "version": "3.12.3"
  }
 },
 "nbformat": 4,
 "nbformat_minor": 5
}
